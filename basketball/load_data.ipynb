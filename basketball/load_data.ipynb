{
 "cells": [
  {
   "cell_type": "code",
   "execution_count": 2,
   "id": "initial_id",
   "metadata": {
    "collapsed": true,
    "ExecuteTime": {
     "end_time": "2023-10-18T04:06:58.711031900Z",
     "start_time": "2023-10-18T04:06:58.689282400Z"
    }
   },
   "outputs": [],
   "source": [
    "import pandas as pd\n",
    "import numpy as np\n",
    "\n",
    "DATA_PATH = 'C:/Users/johnp/OneDrive/Documents/development/nba_elo/data/'"
   ]
  },
  {
   "cell_type": "markdown",
   "source": [
    "## Load Data"
   ],
   "metadata": {
    "collapsed": false
   },
   "id": "b3e65bfb57ba5497"
  },
  {
   "cell_type": "code",
   "execution_count": 50,
   "outputs": [
    {
     "data": {
      "text/plain": "                      Team  Elo Rating  Point Diff  pts_scored_poss  \\\n0            Atlanta Hawks        1563         0.1            116.3   \n1           Boston Celtics        1714         6.9            118.3   \n2            Brooklyn Nets        1530         1.0            115.4   \n3        Charlotte Hornets        1423        -6.2            109.4   \n4            Chicago Bulls        1548         1.3            113.8   \n5      Cleveland Cavaliers        1622         5.8            116.7   \n6         Dallas Mavericks        1586         0.3            117.2   \n7           Denver Nuggets        1722         3.8            118.3   \n8          Detroit Pistons        1291        -8.6            110.6   \n9    Golden State Warriors        1679         2.4            116.6   \n10         Houston Rockets        1319        -8.6            111.0   \n11          Indiana Pacers        1462        -4.1            114.7   \n12    Los Angeles Clippers        1578        -0.3            114.4   \n13      Los Angeles Lakers        1646         0.4            114.8   \n14       Memphis Grizzlies        1619         5.0            116.2   \n15              Miami Heat        1639        -0.1            113.3   \n16         Milwaukee Bucks        1678         4.4            115.9   \n17  Minnesota Timberwolves        1621         0.5            114.2   \n18    New Orleans Pelicans        1576         1.8            115.0   \n19         New York Knicks        1610         3.4            118.7   \n20   Oklahoma City Thunder        1462         0.6            115.1   \n21           Orlando Magic        1438        -2.4            111.8   \n22      Philadelphia 76ers        1690         4.3            118.3   \n23            Phoenix Suns        1616         1.3            115.1   \n24  Portland Trail Blazers        1515        -3.8            115.3   \n25        Sacramento Kings        1528         2.4            119.7   \n26       San Antonio Spurs        1358        -9.9            110.9   \n27         Toronto Raptors        1638         1.5            115.9   \n28               Utah Jazz        1458        -0.9            116.3   \n29      Washington Wizards        1509        -1.7            114.9   \n\n    pts_allowed_poss  \n0              116.3  \n1              111.5  \n2              114.5  \n3              115.6  \n4              112.5  \n5              111.0  \n6              116.9  \n7              114.6  \n8              119.2  \n9              114.2  \n10             119.7  \n11             118.7  \n12             114.8  \n13             114.3  \n14             111.3  \n15             113.4  \n16             111.5  \n17             113.7  \n18             113.1  \n19             115.3  \n20             114.5  \n21             114.2  \n22             114.0  \n23             113.8  \n24             119.1  \n25             117.3  \n26             120.9  \n27             114.4  \n28             117.2  \n29             116.5  ",
      "text/html": "<div>\n<style scoped>\n    .dataframe tbody tr th:only-of-type {\n        vertical-align: middle;\n    }\n\n    .dataframe tbody tr th {\n        vertical-align: top;\n    }\n\n    .dataframe thead th {\n        text-align: right;\n    }\n</style>\n<table border=\"1\" class=\"dataframe\">\n  <thead>\n    <tr style=\"text-align: right;\">\n      <th></th>\n      <th>Team</th>\n      <th>Elo Rating</th>\n      <th>Point Diff</th>\n      <th>pts_scored_poss</th>\n      <th>pts_allowed_poss</th>\n    </tr>\n  </thead>\n  <tbody>\n    <tr>\n      <th>0</th>\n      <td>Atlanta Hawks</td>\n      <td>1563</td>\n      <td>0.1</td>\n      <td>116.3</td>\n      <td>116.3</td>\n    </tr>\n    <tr>\n      <th>1</th>\n      <td>Boston Celtics</td>\n      <td>1714</td>\n      <td>6.9</td>\n      <td>118.3</td>\n      <td>111.5</td>\n    </tr>\n    <tr>\n      <th>2</th>\n      <td>Brooklyn Nets</td>\n      <td>1530</td>\n      <td>1.0</td>\n      <td>115.4</td>\n      <td>114.5</td>\n    </tr>\n    <tr>\n      <th>3</th>\n      <td>Charlotte Hornets</td>\n      <td>1423</td>\n      <td>-6.2</td>\n      <td>109.4</td>\n      <td>115.6</td>\n    </tr>\n    <tr>\n      <th>4</th>\n      <td>Chicago Bulls</td>\n      <td>1548</td>\n      <td>1.3</td>\n      <td>113.8</td>\n      <td>112.5</td>\n    </tr>\n    <tr>\n      <th>5</th>\n      <td>Cleveland Cavaliers</td>\n      <td>1622</td>\n      <td>5.8</td>\n      <td>116.7</td>\n      <td>111.0</td>\n    </tr>\n    <tr>\n      <th>6</th>\n      <td>Dallas Mavericks</td>\n      <td>1586</td>\n      <td>0.3</td>\n      <td>117.2</td>\n      <td>116.9</td>\n    </tr>\n    <tr>\n      <th>7</th>\n      <td>Denver Nuggets</td>\n      <td>1722</td>\n      <td>3.8</td>\n      <td>118.3</td>\n      <td>114.6</td>\n    </tr>\n    <tr>\n      <th>8</th>\n      <td>Detroit Pistons</td>\n      <td>1291</td>\n      <td>-8.6</td>\n      <td>110.6</td>\n      <td>119.2</td>\n    </tr>\n    <tr>\n      <th>9</th>\n      <td>Golden State Warriors</td>\n      <td>1679</td>\n      <td>2.4</td>\n      <td>116.6</td>\n      <td>114.2</td>\n    </tr>\n    <tr>\n      <th>10</th>\n      <td>Houston Rockets</td>\n      <td>1319</td>\n      <td>-8.6</td>\n      <td>111.0</td>\n      <td>119.7</td>\n    </tr>\n    <tr>\n      <th>11</th>\n      <td>Indiana Pacers</td>\n      <td>1462</td>\n      <td>-4.1</td>\n      <td>114.7</td>\n      <td>118.7</td>\n    </tr>\n    <tr>\n      <th>12</th>\n      <td>Los Angeles Clippers</td>\n      <td>1578</td>\n      <td>-0.3</td>\n      <td>114.4</td>\n      <td>114.8</td>\n    </tr>\n    <tr>\n      <th>13</th>\n      <td>Los Angeles Lakers</td>\n      <td>1646</td>\n      <td>0.4</td>\n      <td>114.8</td>\n      <td>114.3</td>\n    </tr>\n    <tr>\n      <th>14</th>\n      <td>Memphis Grizzlies</td>\n      <td>1619</td>\n      <td>5.0</td>\n      <td>116.2</td>\n      <td>111.3</td>\n    </tr>\n    <tr>\n      <th>15</th>\n      <td>Miami Heat</td>\n      <td>1639</td>\n      <td>-0.1</td>\n      <td>113.3</td>\n      <td>113.4</td>\n    </tr>\n    <tr>\n      <th>16</th>\n      <td>Milwaukee Bucks</td>\n      <td>1678</td>\n      <td>4.4</td>\n      <td>115.9</td>\n      <td>111.5</td>\n    </tr>\n    <tr>\n      <th>17</th>\n      <td>Minnesota Timberwolves</td>\n      <td>1621</td>\n      <td>0.5</td>\n      <td>114.2</td>\n      <td>113.7</td>\n    </tr>\n    <tr>\n      <th>18</th>\n      <td>New Orleans Pelicans</td>\n      <td>1576</td>\n      <td>1.8</td>\n      <td>115.0</td>\n      <td>113.1</td>\n    </tr>\n    <tr>\n      <th>19</th>\n      <td>New York Knicks</td>\n      <td>1610</td>\n      <td>3.4</td>\n      <td>118.7</td>\n      <td>115.3</td>\n    </tr>\n    <tr>\n      <th>20</th>\n      <td>Oklahoma City Thunder</td>\n      <td>1462</td>\n      <td>0.6</td>\n      <td>115.1</td>\n      <td>114.5</td>\n    </tr>\n    <tr>\n      <th>21</th>\n      <td>Orlando Magic</td>\n      <td>1438</td>\n      <td>-2.4</td>\n      <td>111.8</td>\n      <td>114.2</td>\n    </tr>\n    <tr>\n      <th>22</th>\n      <td>Philadelphia 76ers</td>\n      <td>1690</td>\n      <td>4.3</td>\n      <td>118.3</td>\n      <td>114.0</td>\n    </tr>\n    <tr>\n      <th>23</th>\n      <td>Phoenix Suns</td>\n      <td>1616</td>\n      <td>1.3</td>\n      <td>115.1</td>\n      <td>113.8</td>\n    </tr>\n    <tr>\n      <th>24</th>\n      <td>Portland Trail Blazers</td>\n      <td>1515</td>\n      <td>-3.8</td>\n      <td>115.3</td>\n      <td>119.1</td>\n    </tr>\n    <tr>\n      <th>25</th>\n      <td>Sacramento Kings</td>\n      <td>1528</td>\n      <td>2.4</td>\n      <td>119.7</td>\n      <td>117.3</td>\n    </tr>\n    <tr>\n      <th>26</th>\n      <td>San Antonio Spurs</td>\n      <td>1358</td>\n      <td>-9.9</td>\n      <td>110.9</td>\n      <td>120.9</td>\n    </tr>\n    <tr>\n      <th>27</th>\n      <td>Toronto Raptors</td>\n      <td>1638</td>\n      <td>1.5</td>\n      <td>115.9</td>\n      <td>114.4</td>\n    </tr>\n    <tr>\n      <th>28</th>\n      <td>Utah Jazz</td>\n      <td>1458</td>\n      <td>-0.9</td>\n      <td>116.3</td>\n      <td>117.2</td>\n    </tr>\n    <tr>\n      <th>29</th>\n      <td>Washington Wizards</td>\n      <td>1509</td>\n      <td>-1.7</td>\n      <td>114.9</td>\n      <td>116.5</td>\n    </tr>\n  </tbody>\n</table>\n</div>"
     },
     "execution_count": 50,
     "metadata": {},
     "output_type": "execute_result"
    }
   ],
   "source": [
    "tm_elo = pd.read_csv(DATA_PATH + 'nba_elo_ratings.csv')\n",
    "schedule = pd.read_csv(DATA_PATH + 'nba_schedule.csv')\n",
    "tm_elo"
   ],
   "metadata": {
    "collapsed": false,
    "ExecuteTime": {
     "end_time": "2023-10-18T07:10:05.405543900Z",
     "start_time": "2023-10-18T07:10:05.386425200Z"
    }
   },
   "id": "4949be0d0debb014"
  },
  {
   "cell_type": "code",
   "execution_count": 54,
   "outputs": [
    {
     "data": {
      "text/plain": "                      Team  Elo Rating  Point Diff  pts_scored_poss  \\\n0            Atlanta Hawks        1563         0.1            116.3   \n1           Boston Celtics        1714         6.9            118.3   \n2            Brooklyn Nets        1530         1.0            115.4   \n3        Charlotte Hornets        1423        -6.2            109.4   \n4            Chicago Bulls        1548         1.3            113.8   \n5      Cleveland Cavaliers        1622         5.8            116.7   \n6         Dallas Mavericks        1586         0.3            117.2   \n7           Denver Nuggets        1722         3.8            118.3   \n8          Detroit Pistons        1291        -8.6            110.6   \n9    Golden State Warriors        1679         2.4            116.6   \n10         Houston Rockets        1319        -8.6            111.0   \n11          Indiana Pacers        1462        -4.1            114.7   \n12    Los Angeles Clippers        1578        -0.3            114.4   \n13      Los Angeles Lakers        1646         0.4            114.8   \n14       Memphis Grizzlies        1619         5.0            116.2   \n15              Miami Heat        1639        -0.1            113.3   \n16         Milwaukee Bucks        1678         4.4            115.9   \n17  Minnesota Timberwolves        1621         0.5            114.2   \n18    New Orleans Pelicans        1576         1.8            115.0   \n19         New York Knicks        1610         3.4            118.7   \n20   Oklahoma City Thunder        1462         0.6            115.1   \n21           Orlando Magic        1438        -2.4            111.8   \n22      Philadelphia 76ers        1690         4.3            118.3   \n23            Phoenix Suns        1616         1.3            115.1   \n24  Portland Trail Blazers        1515        -3.8            115.3   \n25        Sacramento Kings        1528         2.4            119.7   \n26       San Antonio Spurs        1358        -9.9            110.9   \n27         Toronto Raptors        1638         1.5            115.9   \n28               Utah Jazz        1458        -0.9            116.3   \n29      Washington Wizards        1509        -1.7            114.9   \n\n    pts_allowed_poss  pt_diff_elo  normalized_elo  \n0              116.3     1503.333       1538.4666  \n1              111.5     1729.977       1674.3954  \n2              114.5     1533.330       1524.6660  \n3              115.6     1354.114       1424.6228  \n4              112.5     1543.329       1537.4658  \n5              111.0     1693.314       1611.8628  \n6              116.9     1509.999       1553.5998  \n7              114.6     1626.654       1658.5308  \n8              119.2     1297.642       1334.1284  \n9              114.2     1579.992       1623.3984  \n10             119.7     1297.642       1350.9284  \n11             118.7     1403.527       1457.9054  \n12             114.8     1492.941       1545.3882  \n13             114.3     1513.332       1590.2664  \n14             111.3     1666.650       1604.7300  \n15             113.4     1497.647       1582.9294  \n16             111.5     1646.652       1636.1304  \n17             113.7     1516.665       1575.9330  \n18             113.1     1559.994       1557.5988  \n19             115.3     1613.322       1588.6644  \n20             114.5     1519.998       1481.1996  \n21             114.2     1443.528       1451.5056  \n22             114.0     1643.319       1642.6638  \n23             113.8     1543.329       1578.2658  \n24             119.1     1410.586       1491.1172  \n25             117.3     1579.992       1532.7984  \n26             120.9     1267.053       1368.2106  \n27             114.4     1549.995       1592.7990  \n28             117.2     1478.823       1470.5646  \n29             116.5     1459.999       1497.3998  ",
      "text/html": "<div>\n<style scoped>\n    .dataframe tbody tr th:only-of-type {\n        vertical-align: middle;\n    }\n\n    .dataframe tbody tr th {\n        vertical-align: top;\n    }\n\n    .dataframe thead th {\n        text-align: right;\n    }\n</style>\n<table border=\"1\" class=\"dataframe\">\n  <thead>\n    <tr style=\"text-align: right;\">\n      <th></th>\n      <th>Team</th>\n      <th>Elo Rating</th>\n      <th>Point Diff</th>\n      <th>pts_scored_poss</th>\n      <th>pts_allowed_poss</th>\n      <th>pt_diff_elo</th>\n      <th>normalized_elo</th>\n    </tr>\n  </thead>\n  <tbody>\n    <tr>\n      <th>0</th>\n      <td>Atlanta Hawks</td>\n      <td>1563</td>\n      <td>0.1</td>\n      <td>116.3</td>\n      <td>116.3</td>\n      <td>1503.333</td>\n      <td>1538.4666</td>\n    </tr>\n    <tr>\n      <th>1</th>\n      <td>Boston Celtics</td>\n      <td>1714</td>\n      <td>6.9</td>\n      <td>118.3</td>\n      <td>111.5</td>\n      <td>1729.977</td>\n      <td>1674.3954</td>\n    </tr>\n    <tr>\n      <th>2</th>\n      <td>Brooklyn Nets</td>\n      <td>1530</td>\n      <td>1.0</td>\n      <td>115.4</td>\n      <td>114.5</td>\n      <td>1533.330</td>\n      <td>1524.6660</td>\n    </tr>\n    <tr>\n      <th>3</th>\n      <td>Charlotte Hornets</td>\n      <td>1423</td>\n      <td>-6.2</td>\n      <td>109.4</td>\n      <td>115.6</td>\n      <td>1354.114</td>\n      <td>1424.6228</td>\n    </tr>\n    <tr>\n      <th>4</th>\n      <td>Chicago Bulls</td>\n      <td>1548</td>\n      <td>1.3</td>\n      <td>113.8</td>\n      <td>112.5</td>\n      <td>1543.329</td>\n      <td>1537.4658</td>\n    </tr>\n    <tr>\n      <th>5</th>\n      <td>Cleveland Cavaliers</td>\n      <td>1622</td>\n      <td>5.8</td>\n      <td>116.7</td>\n      <td>111.0</td>\n      <td>1693.314</td>\n      <td>1611.8628</td>\n    </tr>\n    <tr>\n      <th>6</th>\n      <td>Dallas Mavericks</td>\n      <td>1586</td>\n      <td>0.3</td>\n      <td>117.2</td>\n      <td>116.9</td>\n      <td>1509.999</td>\n      <td>1553.5998</td>\n    </tr>\n    <tr>\n      <th>7</th>\n      <td>Denver Nuggets</td>\n      <td>1722</td>\n      <td>3.8</td>\n      <td>118.3</td>\n      <td>114.6</td>\n      <td>1626.654</td>\n      <td>1658.5308</td>\n    </tr>\n    <tr>\n      <th>8</th>\n      <td>Detroit Pistons</td>\n      <td>1291</td>\n      <td>-8.6</td>\n      <td>110.6</td>\n      <td>119.2</td>\n      <td>1297.642</td>\n      <td>1334.1284</td>\n    </tr>\n    <tr>\n      <th>9</th>\n      <td>Golden State Warriors</td>\n      <td>1679</td>\n      <td>2.4</td>\n      <td>116.6</td>\n      <td>114.2</td>\n      <td>1579.992</td>\n      <td>1623.3984</td>\n    </tr>\n    <tr>\n      <th>10</th>\n      <td>Houston Rockets</td>\n      <td>1319</td>\n      <td>-8.6</td>\n      <td>111.0</td>\n      <td>119.7</td>\n      <td>1297.642</td>\n      <td>1350.9284</td>\n    </tr>\n    <tr>\n      <th>11</th>\n      <td>Indiana Pacers</td>\n      <td>1462</td>\n      <td>-4.1</td>\n      <td>114.7</td>\n      <td>118.7</td>\n      <td>1403.527</td>\n      <td>1457.9054</td>\n    </tr>\n    <tr>\n      <th>12</th>\n      <td>Los Angeles Clippers</td>\n      <td>1578</td>\n      <td>-0.3</td>\n      <td>114.4</td>\n      <td>114.8</td>\n      <td>1492.941</td>\n      <td>1545.3882</td>\n    </tr>\n    <tr>\n      <th>13</th>\n      <td>Los Angeles Lakers</td>\n      <td>1646</td>\n      <td>0.4</td>\n      <td>114.8</td>\n      <td>114.3</td>\n      <td>1513.332</td>\n      <td>1590.2664</td>\n    </tr>\n    <tr>\n      <th>14</th>\n      <td>Memphis Grizzlies</td>\n      <td>1619</td>\n      <td>5.0</td>\n      <td>116.2</td>\n      <td>111.3</td>\n      <td>1666.650</td>\n      <td>1604.7300</td>\n    </tr>\n    <tr>\n      <th>15</th>\n      <td>Miami Heat</td>\n      <td>1639</td>\n      <td>-0.1</td>\n      <td>113.3</td>\n      <td>113.4</td>\n      <td>1497.647</td>\n      <td>1582.9294</td>\n    </tr>\n    <tr>\n      <th>16</th>\n      <td>Milwaukee Bucks</td>\n      <td>1678</td>\n      <td>4.4</td>\n      <td>115.9</td>\n      <td>111.5</td>\n      <td>1646.652</td>\n      <td>1636.1304</td>\n    </tr>\n    <tr>\n      <th>17</th>\n      <td>Minnesota Timberwolves</td>\n      <td>1621</td>\n      <td>0.5</td>\n      <td>114.2</td>\n      <td>113.7</td>\n      <td>1516.665</td>\n      <td>1575.9330</td>\n    </tr>\n    <tr>\n      <th>18</th>\n      <td>New Orleans Pelicans</td>\n      <td>1576</td>\n      <td>1.8</td>\n      <td>115.0</td>\n      <td>113.1</td>\n      <td>1559.994</td>\n      <td>1557.5988</td>\n    </tr>\n    <tr>\n      <th>19</th>\n      <td>New York Knicks</td>\n      <td>1610</td>\n      <td>3.4</td>\n      <td>118.7</td>\n      <td>115.3</td>\n      <td>1613.322</td>\n      <td>1588.6644</td>\n    </tr>\n    <tr>\n      <th>20</th>\n      <td>Oklahoma City Thunder</td>\n      <td>1462</td>\n      <td>0.6</td>\n      <td>115.1</td>\n      <td>114.5</td>\n      <td>1519.998</td>\n      <td>1481.1996</td>\n    </tr>\n    <tr>\n      <th>21</th>\n      <td>Orlando Magic</td>\n      <td>1438</td>\n      <td>-2.4</td>\n      <td>111.8</td>\n      <td>114.2</td>\n      <td>1443.528</td>\n      <td>1451.5056</td>\n    </tr>\n    <tr>\n      <th>22</th>\n      <td>Philadelphia 76ers</td>\n      <td>1690</td>\n      <td>4.3</td>\n      <td>118.3</td>\n      <td>114.0</td>\n      <td>1643.319</td>\n      <td>1642.6638</td>\n    </tr>\n    <tr>\n      <th>23</th>\n      <td>Phoenix Suns</td>\n      <td>1616</td>\n      <td>1.3</td>\n      <td>115.1</td>\n      <td>113.8</td>\n      <td>1543.329</td>\n      <td>1578.2658</td>\n    </tr>\n    <tr>\n      <th>24</th>\n      <td>Portland Trail Blazers</td>\n      <td>1515</td>\n      <td>-3.8</td>\n      <td>115.3</td>\n      <td>119.1</td>\n      <td>1410.586</td>\n      <td>1491.1172</td>\n    </tr>\n    <tr>\n      <th>25</th>\n      <td>Sacramento Kings</td>\n      <td>1528</td>\n      <td>2.4</td>\n      <td>119.7</td>\n      <td>117.3</td>\n      <td>1579.992</td>\n      <td>1532.7984</td>\n    </tr>\n    <tr>\n      <th>26</th>\n      <td>San Antonio Spurs</td>\n      <td>1358</td>\n      <td>-9.9</td>\n      <td>110.9</td>\n      <td>120.9</td>\n      <td>1267.053</td>\n      <td>1368.2106</td>\n    </tr>\n    <tr>\n      <th>27</th>\n      <td>Toronto Raptors</td>\n      <td>1638</td>\n      <td>1.5</td>\n      <td>115.9</td>\n      <td>114.4</td>\n      <td>1549.995</td>\n      <td>1592.7990</td>\n    </tr>\n    <tr>\n      <th>28</th>\n      <td>Utah Jazz</td>\n      <td>1458</td>\n      <td>-0.9</td>\n      <td>116.3</td>\n      <td>117.2</td>\n      <td>1478.823</td>\n      <td>1470.5646</td>\n    </tr>\n    <tr>\n      <th>29</th>\n      <td>Washington Wizards</td>\n      <td>1509</td>\n      <td>-1.7</td>\n      <td>114.9</td>\n      <td>116.5</td>\n      <td>1459.999</td>\n      <td>1497.3998</td>\n    </tr>\n  </tbody>\n</table>\n</div>"
     },
     "execution_count": 54,
     "metadata": {},
     "output_type": "execute_result"
    }
   ],
   "source": [
    "# Adjusting elo with points_diff\n",
    "tm_elo.loc[tm_elo['Point Diff']>=0, 'pt_diff_elo'] = 1500 + 33.33 * tm_elo['Point Diff']\n",
    "tm_elo.loc[tm_elo['Point Diff']<0, 'pt_diff_elo'] = 1500 - 23.53 * abs(tm_elo['Point Diff'])\n",
    "\n",
    "# Normalized ELO\n",
    "# 60% of elo rating, 20% of pt_diff_elo, 20% of mean regression\n",
    "tm_elo['normalized_elo'] = 0.6* tm_elo['Elo Rating'] + 0.2 * tm_elo['pt_diff_elo'] + 0.2 * 1500\n",
    "tm_elo\n"
   ],
   "metadata": {
    "collapsed": false,
    "ExecuteTime": {
     "end_time": "2023-10-18T07:33:57.480635900Z",
     "start_time": "2023-10-18T07:33:57.471617800Z"
    }
   },
   "id": "9bd2e1459fa7b1dd"
  },
  {
   "cell_type": "code",
   "execution_count": 55,
   "outputs": [
    {
     "data": {
      "text/plain": "                 Date                    Home                    Away  \\\n0     Tue Oct 24 2023          Denver Nuggets      Los Angeles Lakers   \n1     Tue Oct 24 2023   Golden State Warriors            Phoenix Suns   \n2     Wed Oct 25 2023           Orlando Magic         Houston Rockets   \n3     Wed Oct 25 2023         New York Knicks          Boston Celtics   \n4     Wed Oct 25 2023          Indiana Pacers      Washington Wizards   \n...               ...                     ...                     ...   \n1195  Sun Apr 14 2024  Minnesota Timberwolves            Phoenix Suns   \n1196  Sun Apr 14 2024    New Orleans Pelicans      Los Angeles Lakers   \n1197  Sun Apr 14 2024   Oklahoma City Thunder        Dallas Mavericks   \n1198  Sun Apr 14 2024        Sacramento Kings  Portland Trail Blazers   \n1199  Sun Apr 14 2024       San Antonio Spurs         Detroit Pistons   \n\n       Home_elo   Away_elo  \n0     1658.5308  1590.2664  \n1     1623.3984  1578.2658  \n2     1451.5056  1350.9284  \n3     1588.6644  1674.3954  \n4     1457.9054  1497.3998  \n...         ...        ...  \n1195  1575.9330  1578.2658  \n1196  1557.5988  1590.2664  \n1197  1481.1996  1553.5998  \n1198  1532.7984  1491.1172  \n1199  1368.2106  1334.1284  \n\n[1200 rows x 5 columns]",
      "text/html": "<div>\n<style scoped>\n    .dataframe tbody tr th:only-of-type {\n        vertical-align: middle;\n    }\n\n    .dataframe tbody tr th {\n        vertical-align: top;\n    }\n\n    .dataframe thead th {\n        text-align: right;\n    }\n</style>\n<table border=\"1\" class=\"dataframe\">\n  <thead>\n    <tr style=\"text-align: right;\">\n      <th></th>\n      <th>Date</th>\n      <th>Home</th>\n      <th>Away</th>\n      <th>Home_elo</th>\n      <th>Away_elo</th>\n    </tr>\n  </thead>\n  <tbody>\n    <tr>\n      <th>0</th>\n      <td>Tue Oct 24 2023</td>\n      <td>Denver Nuggets</td>\n      <td>Los Angeles Lakers</td>\n      <td>1658.5308</td>\n      <td>1590.2664</td>\n    </tr>\n    <tr>\n      <th>1</th>\n      <td>Tue Oct 24 2023</td>\n      <td>Golden State Warriors</td>\n      <td>Phoenix Suns</td>\n      <td>1623.3984</td>\n      <td>1578.2658</td>\n    </tr>\n    <tr>\n      <th>2</th>\n      <td>Wed Oct 25 2023</td>\n      <td>Orlando Magic</td>\n      <td>Houston Rockets</td>\n      <td>1451.5056</td>\n      <td>1350.9284</td>\n    </tr>\n    <tr>\n      <th>3</th>\n      <td>Wed Oct 25 2023</td>\n      <td>New York Knicks</td>\n      <td>Boston Celtics</td>\n      <td>1588.6644</td>\n      <td>1674.3954</td>\n    </tr>\n    <tr>\n      <th>4</th>\n      <td>Wed Oct 25 2023</td>\n      <td>Indiana Pacers</td>\n      <td>Washington Wizards</td>\n      <td>1457.9054</td>\n      <td>1497.3998</td>\n    </tr>\n    <tr>\n      <th>...</th>\n      <td>...</td>\n      <td>...</td>\n      <td>...</td>\n      <td>...</td>\n      <td>...</td>\n    </tr>\n    <tr>\n      <th>1195</th>\n      <td>Sun Apr 14 2024</td>\n      <td>Minnesota Timberwolves</td>\n      <td>Phoenix Suns</td>\n      <td>1575.9330</td>\n      <td>1578.2658</td>\n    </tr>\n    <tr>\n      <th>1196</th>\n      <td>Sun Apr 14 2024</td>\n      <td>New Orleans Pelicans</td>\n      <td>Los Angeles Lakers</td>\n      <td>1557.5988</td>\n      <td>1590.2664</td>\n    </tr>\n    <tr>\n      <th>1197</th>\n      <td>Sun Apr 14 2024</td>\n      <td>Oklahoma City Thunder</td>\n      <td>Dallas Mavericks</td>\n      <td>1481.1996</td>\n      <td>1553.5998</td>\n    </tr>\n    <tr>\n      <th>1198</th>\n      <td>Sun Apr 14 2024</td>\n      <td>Sacramento Kings</td>\n      <td>Portland Trail Blazers</td>\n      <td>1532.7984</td>\n      <td>1491.1172</td>\n    </tr>\n    <tr>\n      <th>1199</th>\n      <td>Sun Apr 14 2024</td>\n      <td>San Antonio Spurs</td>\n      <td>Detroit Pistons</td>\n      <td>1368.2106</td>\n      <td>1334.1284</td>\n    </tr>\n  </tbody>\n</table>\n<p>1200 rows × 5 columns</p>\n</div>"
     },
     "execution_count": 55,
     "metadata": {},
     "output_type": "execute_result"
    }
   ],
   "source": [
    "schedule = schedule.merge(tm_elo[['Team', 'normalized_elo']], left_on='Home/Neutral', right_on='Team', how='left', suffixes=('', '_drop'))\n",
    "schedule.rename(columns={'normalized_elo':'Home_elo'}, inplace=True)\n",
    "schedule = schedule.merge(tm_elo[['Team', 'normalized_elo']], left_on='Visitor/Neutral', right_on='Team', how='left', suffixes=('', '_drop'))\n",
    "schedule.rename(columns={'normalized_elo':'Away_elo'}, inplace=True)\n",
    "\n",
    "drop_cols = [col for col in schedule.columns if '_drop' in col]\n",
    "schedule.drop(drop_cols, axis=1, inplace=True)\n",
    "schedule_df = schedule[['Date', 'Home/Neutral', 'Visitor/Neutral', 'Home_elo', 'Away_elo']].copy()\n",
    "schedule_df.rename(columns={'Home/Neutral':'Home', 'Visitor/Neutral':'Away'}, inplace=True)\n",
    "schedule_df"
   ],
   "metadata": {
    "collapsed": false,
    "ExecuteTime": {
     "end_time": "2023-10-18T07:35:10.035078400Z",
     "start_time": "2023-10-18T07:35:10.017951700Z"
    }
   },
   "id": "480a4a5e4919998c"
  },
  {
   "cell_type": "code",
   "execution_count": 56,
   "outputs": [],
   "source": [
    "HC_BOOST = 90\n",
    "schedule_df['h_adj_elo'] = schedule_df['Home_elo'] + HC_BOOST"
   ],
   "metadata": {
    "collapsed": false,
    "ExecuteTime": {
     "end_time": "2023-10-18T07:35:12.349189300Z",
     "start_time": "2023-10-18T07:35:12.339754Z"
    }
   },
   "id": "e552828ed59a8ac4"
  },
  {
   "cell_type": "code",
   "execution_count": 57,
   "outputs": [],
   "source": [
    "def calc_win_pct(home_elo, away_elo):\n",
    "    return 1 / (10 ** (-(home_elo - away_elo) / 400) + 1)\n",
    "\n",
    "def get_winner(home_win_pct, home_tm, away_tm):\n",
    "    return home_tm if np.random.binomial(1, home_win_pct) else away_tm\n",
    "\n",
    "schedule_df['home_win_pct'] = schedule_df.apply(lambda x: calc_win_pct(x['h_adj_elo'], x['Away_elo']), axis=1)\n",
    "assert schedule_df['home_win_pct'].min() > 0, 'Home win pct less than 0'\n",
    "assert schedule_df['home_win_pct'].max() < 1, 'Home win pct greater than 1'\n",
    "assert schedule_df['home_win_pct'].count() == len(schedule_df), 'Home win pct not calculated for all games'"
   ],
   "metadata": {
    "collapsed": false,
    "ExecuteTime": {
     "end_time": "2023-10-18T07:35:14.793166200Z",
     "start_time": "2023-10-18T07:35:14.776983300Z"
    }
   },
   "id": "a4bc8a0beba52ccb"
  },
  {
   "cell_type": "markdown",
   "source": [
    "## Simulate Games"
   ],
   "metadata": {
    "collapsed": false
   },
   "id": "52cd9372df54e275"
  },
  {
   "cell_type": "code",
   "execution_count": 59,
   "outputs": [
    {
     "data": {
      "text/plain": "Philadelphia 76ers        57\nDenver Nuggets            54\nBoston Celtics            53\nMilwaukee Bucks           52\nGolden State Warriors     52\nMinnesota Timberwolves    48\nLos Angeles Lakers        47\nToronto Raptors           46\nDallas Mavericks          46\nCleveland Cavaliers       46\nNew York Knicks           45\nNew Orleans Pelicans      45\nMemphis Grizzlies         44\nPhoenix Suns              44\nBrooklyn Nets             41\nChicago Bulls             41\nMiami Heat                40\nPortland Trail Blazers    38\nOklahoma City Thunder     37\nLos Angeles Clippers      37\nOrlando Magic             36\nSacramento Kings          34\nCharlotte Hornets         33\nWashington Wizards        33\nUtah Jazz                 32\nIndiana Pacers            32\nAtlanta Hawks             28\nSan Antonio Spurs         26\nHouston Rockets           17\nDetroit Pistons           16\nName: winner, dtype: int64"
     },
     "execution_count": 59,
     "metadata": {},
     "output_type": "execute_result"
    }
   ],
   "source": [
    "\n",
    "schedule_df['home_win'] = np.random.binomial(1, schedule_df['home_win_pct'])\n",
    "\n",
    "def sim_season(schedule_df):\n",
    "    schedule_df['winner'] = schedule_df.apply(lambda x: get_winner(x['home_win_pct'], x['Home'], x['Away']), axis=1)\n",
    "    win_totals = schedule_df['winner'].value_counts()\n",
    "    return win_totals\n",
    "\n",
    "win_totals = sim_season(schedule_df)\n",
    "win_totals"
   ],
   "metadata": {
    "collapsed": false,
    "ExecuteTime": {
     "end_time": "2023-10-18T07:35:23.287527100Z",
     "start_time": "2023-10-18T07:35:23.268845400Z"
    }
   },
   "id": "1ca0415e5b0a2f56"
  },
  {
   "cell_type": "code",
   "execution_count": 49,
   "outputs": [
    {
     "data": {
      "text/plain": "        Golden State Warriors  Milwaukee Bucks  Philadelphia 76ers  \\\nwinner                     60               54                  53   \nwinner                     51               59                  56   \nwinner                     55               58                  50   \nwinner                     54               54                  56   \nwinner                     59               51                  61   \n...                       ...              ...                 ...   \nwinner                     53               53                  51   \nwinner                     51               51                  56   \nwinner                     49               51                  48   \nwinner                     49               57                  54   \nwinner                     49               53                  50   \n\n        Denver Nuggets  Boston Celtics  Miami Heat  Toronto Raptors  \\\nwinner              51              51          51               50   \nwinner              57              54          44               41   \nwinner              58              54          40               53   \nwinner              57              52          50               47   \nwinner              58              56          41               46   \n...                ...             ...         ...              ...   \nwinner              59              50          52               52   \nwinner              53              54          44               46   \nwinner              66              55          50               42   \nwinner              57              55          44               50   \nwinner              55              59          49               56   \n\n        Los Angeles Lakers  Atlanta Hawks  Dallas Mavericks  ...  Utah Jazz  \\\nwinner                  49             48                47  ...         35   \nwinner                  54             34                37  ...         30   \nwinner                  51             38                40  ...         29   \nwinner                  49             34                43  ...         30   \nwinner                  44             39                46  ...         35   \n...                    ...            ...               ...  ...        ...   \nwinner                  47             39                45  ...         30   \nwinner                  47             46                49  ...         28   \nwinner                  45             42                35  ...         30   \nwinner                  45             37                42  ...         29   \nwinner                  53             47                47  ...         27   \n\n        Oklahoma City Thunder  Brooklyn Nets  Portland Trail Blazers  \\\nwinner                     34             34                      32   \nwinner                     32             37                      39   \nwinner                     30             39                      35   \nwinner                     38             32                      38   \nwinner                     29             35                      32   \n...                       ...            ...                     ...   \nwinner                     32             39                      35   \nwinner                     32             36                      35   \nwinner                     32             41                      34   \nwinner                     37             39                      34   \nwinner                     33             29                      34   \n\n        Indiana Pacers  Orlando Magic  Charlotte Hornets  San Antonio Spurs  \\\nwinner              32             30                 25                 20   \nwinner              29             32                 29                 23   \nwinner              33             27                 32                 20   \nwinner              25             22                 29                 27   \nwinner              27             19                 26                 24   \n...                ...            ...                ...                ...   \nwinner              34             25                 29                 18   \nwinner              36             27                 36                 22   \nwinner              26             28                 26                 23   \nwinner              27             34                 29                 19   \nwinner              38             29                 21                 21   \n\n        Detroit Pistons  Houston Rockets  \nwinner               18               18  \nwinner               17               19  \nwinner               19               20  \nwinner               20               18  \nwinner               17               13  \n...                 ...              ...  \nwinner               14               16  \nwinner               16               11  \nwinner               15               22  \nwinner               21               17  \nwinner               15               10  \n\n[1000 rows x 30 columns]",
      "text/html": "<div>\n<style scoped>\n    .dataframe tbody tr th:only-of-type {\n        vertical-align: middle;\n    }\n\n    .dataframe tbody tr th {\n        vertical-align: top;\n    }\n\n    .dataframe thead th {\n        text-align: right;\n    }\n</style>\n<table border=\"1\" class=\"dataframe\">\n  <thead>\n    <tr style=\"text-align: right;\">\n      <th></th>\n      <th>Golden State Warriors</th>\n      <th>Milwaukee Bucks</th>\n      <th>Philadelphia 76ers</th>\n      <th>Denver Nuggets</th>\n      <th>Boston Celtics</th>\n      <th>Miami Heat</th>\n      <th>Toronto Raptors</th>\n      <th>Los Angeles Lakers</th>\n      <th>Atlanta Hawks</th>\n      <th>Dallas Mavericks</th>\n      <th>...</th>\n      <th>Utah Jazz</th>\n      <th>Oklahoma City Thunder</th>\n      <th>Brooklyn Nets</th>\n      <th>Portland Trail Blazers</th>\n      <th>Indiana Pacers</th>\n      <th>Orlando Magic</th>\n      <th>Charlotte Hornets</th>\n      <th>San Antonio Spurs</th>\n      <th>Detroit Pistons</th>\n      <th>Houston Rockets</th>\n    </tr>\n  </thead>\n  <tbody>\n    <tr>\n      <th>winner</th>\n      <td>60</td>\n      <td>54</td>\n      <td>53</td>\n      <td>51</td>\n      <td>51</td>\n      <td>51</td>\n      <td>50</td>\n      <td>49</td>\n      <td>48</td>\n      <td>47</td>\n      <td>...</td>\n      <td>35</td>\n      <td>34</td>\n      <td>34</td>\n      <td>32</td>\n      <td>32</td>\n      <td>30</td>\n      <td>25</td>\n      <td>20</td>\n      <td>18</td>\n      <td>18</td>\n    </tr>\n    <tr>\n      <th>winner</th>\n      <td>51</td>\n      <td>59</td>\n      <td>56</td>\n      <td>57</td>\n      <td>54</td>\n      <td>44</td>\n      <td>41</td>\n      <td>54</td>\n      <td>34</td>\n      <td>37</td>\n      <td>...</td>\n      <td>30</td>\n      <td>32</td>\n      <td>37</td>\n      <td>39</td>\n      <td>29</td>\n      <td>32</td>\n      <td>29</td>\n      <td>23</td>\n      <td>17</td>\n      <td>19</td>\n    </tr>\n    <tr>\n      <th>winner</th>\n      <td>55</td>\n      <td>58</td>\n      <td>50</td>\n      <td>58</td>\n      <td>54</td>\n      <td>40</td>\n      <td>53</td>\n      <td>51</td>\n      <td>38</td>\n      <td>40</td>\n      <td>...</td>\n      <td>29</td>\n      <td>30</td>\n      <td>39</td>\n      <td>35</td>\n      <td>33</td>\n      <td>27</td>\n      <td>32</td>\n      <td>20</td>\n      <td>19</td>\n      <td>20</td>\n    </tr>\n    <tr>\n      <th>winner</th>\n      <td>54</td>\n      <td>54</td>\n      <td>56</td>\n      <td>57</td>\n      <td>52</td>\n      <td>50</td>\n      <td>47</td>\n      <td>49</td>\n      <td>34</td>\n      <td>43</td>\n      <td>...</td>\n      <td>30</td>\n      <td>38</td>\n      <td>32</td>\n      <td>38</td>\n      <td>25</td>\n      <td>22</td>\n      <td>29</td>\n      <td>27</td>\n      <td>20</td>\n      <td>18</td>\n    </tr>\n    <tr>\n      <th>winner</th>\n      <td>59</td>\n      <td>51</td>\n      <td>61</td>\n      <td>58</td>\n      <td>56</td>\n      <td>41</td>\n      <td>46</td>\n      <td>44</td>\n      <td>39</td>\n      <td>46</td>\n      <td>...</td>\n      <td>35</td>\n      <td>29</td>\n      <td>35</td>\n      <td>32</td>\n      <td>27</td>\n      <td>19</td>\n      <td>26</td>\n      <td>24</td>\n      <td>17</td>\n      <td>13</td>\n    </tr>\n    <tr>\n      <th>...</th>\n      <td>...</td>\n      <td>...</td>\n      <td>...</td>\n      <td>...</td>\n      <td>...</td>\n      <td>...</td>\n      <td>...</td>\n      <td>...</td>\n      <td>...</td>\n      <td>...</td>\n      <td>...</td>\n      <td>...</td>\n      <td>...</td>\n      <td>...</td>\n      <td>...</td>\n      <td>...</td>\n      <td>...</td>\n      <td>...</td>\n      <td>...</td>\n      <td>...</td>\n      <td>...</td>\n    </tr>\n    <tr>\n      <th>winner</th>\n      <td>53</td>\n      <td>53</td>\n      <td>51</td>\n      <td>59</td>\n      <td>50</td>\n      <td>52</td>\n      <td>52</td>\n      <td>47</td>\n      <td>39</td>\n      <td>45</td>\n      <td>...</td>\n      <td>30</td>\n      <td>32</td>\n      <td>39</td>\n      <td>35</td>\n      <td>34</td>\n      <td>25</td>\n      <td>29</td>\n      <td>18</td>\n      <td>14</td>\n      <td>16</td>\n    </tr>\n    <tr>\n      <th>winner</th>\n      <td>51</td>\n      <td>51</td>\n      <td>56</td>\n      <td>53</td>\n      <td>54</td>\n      <td>44</td>\n      <td>46</td>\n      <td>47</td>\n      <td>46</td>\n      <td>49</td>\n      <td>...</td>\n      <td>28</td>\n      <td>32</td>\n      <td>36</td>\n      <td>35</td>\n      <td>36</td>\n      <td>27</td>\n      <td>36</td>\n      <td>22</td>\n      <td>16</td>\n      <td>11</td>\n    </tr>\n    <tr>\n      <th>winner</th>\n      <td>49</td>\n      <td>51</td>\n      <td>48</td>\n      <td>66</td>\n      <td>55</td>\n      <td>50</td>\n      <td>42</td>\n      <td>45</td>\n      <td>42</td>\n      <td>35</td>\n      <td>...</td>\n      <td>30</td>\n      <td>32</td>\n      <td>41</td>\n      <td>34</td>\n      <td>26</td>\n      <td>28</td>\n      <td>26</td>\n      <td>23</td>\n      <td>15</td>\n      <td>22</td>\n    </tr>\n    <tr>\n      <th>winner</th>\n      <td>49</td>\n      <td>57</td>\n      <td>54</td>\n      <td>57</td>\n      <td>55</td>\n      <td>44</td>\n      <td>50</td>\n      <td>45</td>\n      <td>37</td>\n      <td>42</td>\n      <td>...</td>\n      <td>29</td>\n      <td>37</td>\n      <td>39</td>\n      <td>34</td>\n      <td>27</td>\n      <td>34</td>\n      <td>29</td>\n      <td>19</td>\n      <td>21</td>\n      <td>17</td>\n    </tr>\n    <tr>\n      <th>winner</th>\n      <td>49</td>\n      <td>53</td>\n      <td>50</td>\n      <td>55</td>\n      <td>59</td>\n      <td>49</td>\n      <td>56</td>\n      <td>53</td>\n      <td>47</td>\n      <td>47</td>\n      <td>...</td>\n      <td>27</td>\n      <td>33</td>\n      <td>29</td>\n      <td>34</td>\n      <td>38</td>\n      <td>29</td>\n      <td>21</td>\n      <td>21</td>\n      <td>15</td>\n      <td>10</td>\n    </tr>\n  </tbody>\n</table>\n<p>1000 rows × 30 columns</p>\n</div>"
     },
     "execution_count": 49,
     "metadata": {},
     "output_type": "execute_result"
    }
   ],
   "source": [
    "MC_ITERATIONS = 1000\n",
    "win_totals = pd.DataFrame([sim_season(schedule_df) for _ in range(MC_ITERATIONS)])\n",
    "win_totals"
   ],
   "metadata": {
    "collapsed": false,
    "ExecuteTime": {
     "end_time": "2023-10-18T06:57:19.360305400Z",
     "start_time": "2023-10-18T06:57:12.599899200Z"
    }
   },
   "id": "6cf2afa8473b445c"
  }
 ],
 "metadata": {
  "kernelspec": {
   "display_name": "Python 3",
   "language": "python",
   "name": "python3"
  },
  "language_info": {
   "codemirror_mode": {
    "name": "ipython",
    "version": 2
   },
   "file_extension": ".py",
   "mimetype": "text/x-python",
   "name": "python",
   "nbconvert_exporter": "python",
   "pygments_lexer": "ipython2",
   "version": "2.7.6"
  }
 },
 "nbformat": 4,
 "nbformat_minor": 5
}
